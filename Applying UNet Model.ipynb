{
 "cells": [
  {
   "cell_type": "markdown",
   "id": "ca135460",
   "metadata": {},
   "source": [
    "## Building LightWeight UNet Architecture"
   ]
  },
  {
   "cell_type": "code",
   "execution_count": null,
   "id": "c5b42b7d",
   "metadata": {},
   "outputs": [],
   "source": [
    "from tensorflow.keras.layers import Conv2D, BatchNormalization, Activation, MaxPool2D, Conv2DTranspose, Concatenate, Input\n",
    "from tensorflow.keras.models import Model\n",
    "\n",
    "def conv_block(input, num_filters):\n",
    "    x = Conv2D(num_filters, 7, padding=\"same\")(input)\n",
    "    x = BatchNormalization()(x)\n",
    "    x = Activation(\"relu\")(x)\n",
    "\n",
    "    x = Conv2D(num_filters, 7, padding=\"same\")(x)\n",
    "    x = BatchNormalization()(x)\n",
    "    x = Activation(\"relu\")(x)\n",
    "\n",
    "    return x\n",
    "\n",
    "\n",
    "def encoder_block(input, num_filters):\n",
    "    x = conv_block(input, num_filters)\n",
    "    p = MaxPool2D((2, 2))(x)\n",
    "    return x, p\n",
    "\n",
    "\n",
    "def decoder_block(input, skip_features, num_filters):\n",
    "    x = Conv2DTranspose(num_filters, (2, 2), strides=2, padding=\"same\")(input)\n",
    "    x = Concatenate()([x, skip_features])\n",
    "    x = conv_block(x, num_filters)\n",
    "    return x\n",
    "\n",
    "def build_unet(input_shape):\n",
    "    inputs = Input(input_shape)\n",
    "\n",
    "    s1, p1 = encoder_block(inputs, 64)\n",
    "    s2, p2 = encoder_block(p1, 128)\n",
    "    s3, p3 = encoder_block(p2, 256)\n",
    "    s4, p4 = encoder_block(p3, 512)\n",
    "\n",
    "    b1 = conv_block(p4, 1024)\n",
    "\n",
    "    d1 = decoder_block(b1, s4, 512)\n",
    "    d2 = decoder_block(d1, s3, 256)\n",
    "    d3 = decoder_block(d2, s2, 128)\n",
    "    d4 = decoder_block(d3, s1, 64)\n",
    "\n",
    "    outputs = Conv2D(7, 1, padding=\"same\", activation=\"sigmoid\")(d4)\n",
    "\n",
    "    model = Model(inputs, outputs, name=\"U-Net\")\n",
    "    return model\n",
    "\n",
    "\n",
    "input_shape = (512, 512, 7)\n",
    "model = build_unet(input_shape)\n",
    "model.summary()"
   ]
  },
  {
   "cell_type": "markdown",
   "id": "1420a67f",
   "metadata": {},
   "source": [
    "## Creating Features and Inputs"
   ]
  },
  {
   "cell_type": "code",
   "execution_count": 28,
   "id": "40488f1a",
   "metadata": {},
   "outputs": [],
   "source": [
    "import os\n",
    "import cv2\n",
    "import numpy as np\n",
    "X = []\n",
    "y = []\n",
    "i = 10\n",
    "for elem in os.listdir('ground_truth/'):\n",
    "    curr_image = []\n",
    "    for image in os.listdir(f'ground_truth/{elem}/synthetic_cloud_images/'):\n",
    "        synthetic_image_band = cv2.imread(f'ground_truth/{elem}/synthetic_cloud_images/{image}',cv2.IMREAD_GRAYSCALE)\n",
    "        curr_image.append(synthetic_image_band)\n",
    "    ans = np.dstack([elem for elem in curr_image])\n",
    "    X.append(ans)\n",
    "    curr_image = []\n",
    "    for image in os.listdir(f'ground_truth/{elem}/original_image/'):\n",
    "        original_image = cv2.imread(f'ground_truth/{elem}/original_image/{image}',cv2.IMREAD_GRAYSCALE)\n",
    "        curr_image.append(original_image)\n",
    "    ans = np.dstack([elem for elem in curr_image])\n",
    "    y.append(ans)\n",
    "    i -= 1\n",
    "    if i == 0 :break"
   ]
  },
  {
   "cell_type": "code",
   "execution_count": 29,
   "id": "63e2eade",
   "metadata": {},
   "outputs": [
    {
     "name": "stdout",
     "output_type": "stream",
     "text": [
      "(10, 512, 512, 7)\n",
      "(10, 512, 512, 7)\n"
     ]
    }
   ],
   "source": [
    "X = np.array(X)\n",
    "y = np.array(y)\n",
    "print(X.shape)\n",
    "print(y.shape)"
   ]
  },
  {
   "cell_type": "code",
   "execution_count": 30,
   "id": "a81083f1",
   "metadata": {},
   "outputs": [],
   "source": [
    "from sklearn.model_selection import train_test_split\n",
    "X_train,X_test,y_train,y_test = train_test_split(X, y,test_size = 0.25)"
   ]
  },
  {
   "cell_type": "code",
   "execution_count": null,
   "id": "909da189",
   "metadata": {},
   "outputs": [],
   "source": [
    "model.compile(loss=\"mse\",optimizer=\"adam\",metrics=[\"Accuracy\"])\n",
    "model.fit(X,y,epochs=200,batch_size = 10, validation_data=(X_test,y_test))"
   ]
  }
 ],
 "metadata": {
  "kernelspec": {
   "display_name": "Python 3 (ipykernel)",
   "language": "python",
   "name": "python3"
  },
  "language_info": {
   "codemirror_mode": {
    "name": "ipython",
    "version": 3
   },
   "file_extension": ".py",
   "mimetype": "text/x-python",
   "name": "python",
   "nbconvert_exporter": "python",
   "pygments_lexer": "ipython3",
   "version": "3.8.10"
  }
 },
 "nbformat": 4,
 "nbformat_minor": 5
}
